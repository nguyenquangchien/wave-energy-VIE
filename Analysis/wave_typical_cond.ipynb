{
 "cells": [
  {
   "cell_type": "markdown",
   "metadata": {},
   "source": [
    "# Wave analysis: finding typical deepwater wave condition\n",
    "\n",
    "## Reading data"
   ]
  },
  {
   "cell_type": "code",
   "execution_count": 1,
   "metadata": {
    "tags": [
     "hide_input"
    ]
   },
   "outputs": [],
   "source": [
    "import pandas as pd\n",
    "import numpy as np\n",
    "import matplotlib.pyplot as plt\n",
    "%matplotlib inline\n",
    "import datetime "
   ]
  },
  {
   "cell_type": "code",
   "execution_count": 2,
   "metadata": {},
   "outputs": [],
   "source": [
    "table = pd.read_csv('wavedata.txt', delim_whitespace=True)"
   ]
  },
  {
   "cell_type": "code",
   "execution_count": 3,
   "metadata": {},
   "outputs": [],
   "source": [
    "table['datetime'] = table.apply(lambda row: \n",
    "                                datetime.datetime(int(row.year), int(row.month), int(row.day), int(row.hour)), \n",
    "                                axis=1)"
   ]
  },
  {
   "cell_type": "code",
   "execution_count": 4,
   "metadata": {},
   "outputs": [],
   "source": [
    "tableJan = table[table['month']==1]\n",
    "tableFeb = table[table['month']==2]\n",
    "tableMar = table[table['month']==3]\n",
    "tableApr = table[table['month']==4]\n",
    "tableMay = table[table['month']==5]\n",
    "tableJun = table[table['month']==6]\n",
    "tableJul = table[table['month']==7]\n",
    "tableAug = table[table['month']==8]\n",
    "tableSep = table[table['month']==9]\n",
    "tableOct = table[table['month']==10]\n",
    "tableNov = table[table['month']==11]\n",
    "tableDec = table[table['month']==12]"
   ]
  },
  {
   "cell_type": "code",
   "execution_count": 12,
   "metadata": {
    "scrolled": true
   },
   "outputs": [
    {
     "data": {
      "text/html": [
       "<div>\n",
       "<style scoped>\n",
       "    .dataframe tbody tr th:only-of-type {\n",
       "        vertical-align: middle;\n",
       "    }\n",
       "\n",
       "    .dataframe tbody tr th {\n",
       "        vertical-align: top;\n",
       "    }\n",
       "\n",
       "    .dataframe thead th {\n",
       "        text-align: right;\n",
       "    }\n",
       "</style>\n",
       "<table border=\"1\" class=\"dataframe\">\n",
       "  <thead>\n",
       "    <tr style=\"text-align: right;\">\n",
       "      <th></th>\n",
       "      <th>year</th>\n",
       "      <th>month</th>\n",
       "      <th>day</th>\n",
       "      <th>hour</th>\n",
       "      <th>Hs</th>\n",
       "      <th>Tp</th>\n",
       "      <th>Dir</th>\n",
       "      <th>datetime</th>\n",
       "    </tr>\n",
       "  </thead>\n",
       "  <tbody>\n",
       "    <tr>\n",
       "      <td>0</td>\n",
       "      <td>1989</td>\n",
       "      <td>1</td>\n",
       "      <td>1</td>\n",
       "      <td>0</td>\n",
       "      <td>2.59</td>\n",
       "      <td>9.32</td>\n",
       "      <td>41.65</td>\n",
       "      <td>1989-01-01 00:00:00</td>\n",
       "    </tr>\n",
       "    <tr>\n",
       "      <td>1</td>\n",
       "      <td>1989</td>\n",
       "      <td>1</td>\n",
       "      <td>1</td>\n",
       "      <td>3</td>\n",
       "      <td>2.73</td>\n",
       "      <td>9.03</td>\n",
       "      <td>40.41</td>\n",
       "      <td>1989-01-01 03:00:00</td>\n",
       "    </tr>\n",
       "    <tr>\n",
       "      <td>2</td>\n",
       "      <td>1989</td>\n",
       "      <td>1</td>\n",
       "      <td>1</td>\n",
       "      <td>6</td>\n",
       "      <td>2.78</td>\n",
       "      <td>9.06</td>\n",
       "      <td>40.27</td>\n",
       "      <td>1989-01-01 06:00:00</td>\n",
       "    </tr>\n",
       "    <tr>\n",
       "      <td>3</td>\n",
       "      <td>1989</td>\n",
       "      <td>1</td>\n",
       "      <td>1</td>\n",
       "      <td>9</td>\n",
       "      <td>2.91</td>\n",
       "      <td>9.04</td>\n",
       "      <td>40.55</td>\n",
       "      <td>1989-01-01 09:00:00</td>\n",
       "    </tr>\n",
       "    <tr>\n",
       "      <td>4</td>\n",
       "      <td>1989</td>\n",
       "      <td>1</td>\n",
       "      <td>1</td>\n",
       "      <td>12</td>\n",
       "      <td>3.01</td>\n",
       "      <td>9.05</td>\n",
       "      <td>41.56</td>\n",
       "      <td>1989-01-01 12:00:00</td>\n",
       "    </tr>\n",
       "  </tbody>\n",
       "</table>\n",
       "</div>"
      ],
      "text/plain": [
       "   year  month  day  hour    Hs    Tp    Dir            datetime\n",
       "0  1989      1    1     0  2.59  9.32  41.65 1989-01-01 00:00:00\n",
       "1  1989      1    1     3  2.73  9.03  40.41 1989-01-01 03:00:00\n",
       "2  1989      1    1     6  2.78  9.06  40.27 1989-01-01 06:00:00\n",
       "3  1989      1    1     9  2.91  9.04  40.55 1989-01-01 09:00:00\n",
       "4  1989      1    1    12  3.01  9.05  41.56 1989-01-01 12:00:00"
      ]
     },
     "execution_count": 12,
     "metadata": {},
     "output_type": "execute_result"
    }
   ],
   "source": [
    "tableJan.head()"
   ]
  },
  {
   "cell_type": "markdown",
   "metadata": {},
   "source": [
    "## Calculating typical wave conditions\n",
    "\n",
    "The typical wave characteristics are calculated using Goda's method (2010) for each month:\n",
    "\n",
    "$$ H_s = \\sqrt{\\frac{\\Sigma H_i^2 T_i}{\\Sigma T_i}} $$\n",
    "$$ T = \\frac{\\Sigma T_i}{N} $$\n",
    "$$ \\theta = \\frac{\\Sigma \\theta H_i^2 T_i}{\\Sigma H_i^2 T_i} $$\n",
    "\n",
    "where &Sigma; ranges from 1 to N; i is the sample index, N is the number of samples."
   ]
  },
  {
   "cell_type": "code",
   "execution_count": 5,
   "metadata": {},
   "outputs": [],
   "source": [
    "# checking wave direction grouping\n",
    "def inGroup1(x):\n",
    "    return x < 101 or x > 349\n",
    "\n",
    "def inGroup2(x):\n",
    "    return 101 <= x <= 210"
   ]
  },
  {
   "cell_type": "code",
   "execution_count": 6,
   "metadata": {},
   "outputs": [
    {
     "data": {
      "text/plain": [
       "(7688, 7667)"
      ]
     },
     "execution_count": 6,
     "metadata": {},
     "output_type": "execute_result"
    }
   ],
   "source": [
    "# partitioning January wave data into groups\n",
    "tableJan1 = tableJan[tableJan['Dir'].map(inGroup1)]\n",
    "tableJan2 = tableJan[tableJan['Dir'].map(inGroup2)]\n",
    "\n",
    "len(tableJan), len(tableJan1)"
   ]
  },
  {
   "cell_type": "markdown",
   "metadata": {},
   "source": [
    "For January, the second group is negligible, thus we perform analysis only for Group (subset) 1."
   ]
  },
  {
   "cell_type": "code",
   "execution_count": 7,
   "metadata": {
    "scrolled": true
   },
   "outputs": [
    {
     "name": "stderr",
     "output_type": "stream",
     "text": [
      "/Volumes/W10/anaconda3/lib/python3.7/site-packages/ipykernel_launcher.py:1: SettingWithCopyWarning: \n",
      "A value is trying to be set on a copy of a slice from a DataFrame.\n",
      "Try using .loc[row_indexer,col_indexer] = value instead\n",
      "\n",
      "See the caveats in the documentation: https://pandas.pydata.org/pandas-docs/stable/user_guide/indexing.html#returning-a-view-versus-a-copy\n",
      "  \"\"\"Entry point for launching an IPython kernel.\n",
      "/Volumes/W10/anaconda3/lib/python3.7/site-packages/ipykernel_launcher.py:2: SettingWithCopyWarning: \n",
      "A value is trying to be set on a copy of a slice from a DataFrame.\n",
      "Try using .loc[row_indexer,col_indexer] = value instead\n",
      "\n",
      "See the caveats in the documentation: https://pandas.pydata.org/pandas-docs/stable/user_guide/indexing.html#returning-a-view-versus-a-copy\n",
      "  \n"
     ]
    }
   ],
   "source": [
    "tableJan1['H2T'] = tableJan1.apply(lambda row: row['Hs']**2 * row['Tp'], axis=1)\n",
    "tableJan1['thH2T'] = tableJan1.apply(lambda row: row['Dir'] * row['Hs']**2 * row['Tp'], axis=1)"
   ]
  },
  {
   "cell_type": "code",
   "execution_count": 8,
   "metadata": {},
   "outputs": [
    {
     "data": {
      "text/html": [
       "<div>\n",
       "<style scoped>\n",
       "    .dataframe tbody tr th:only-of-type {\n",
       "        vertical-align: middle;\n",
       "    }\n",
       "\n",
       "    .dataframe tbody tr th {\n",
       "        vertical-align: top;\n",
       "    }\n",
       "\n",
       "    .dataframe thead th {\n",
       "        text-align: right;\n",
       "    }\n",
       "</style>\n",
       "<table border=\"1\" class=\"dataframe\">\n",
       "  <thead>\n",
       "    <tr style=\"text-align: right;\">\n",
       "      <th></th>\n",
       "      <th>year</th>\n",
       "      <th>month</th>\n",
       "      <th>day</th>\n",
       "      <th>hour</th>\n",
       "      <th>Hs</th>\n",
       "      <th>Tp</th>\n",
       "      <th>Dir</th>\n",
       "      <th>datetime</th>\n",
       "      <th>H2T</th>\n",
       "      <th>thH2T</th>\n",
       "    </tr>\n",
       "  </thead>\n",
       "  <tbody>\n",
       "    <tr>\n",
       "      <th>0</th>\n",
       "      <td>1989</td>\n",
       "      <td>1</td>\n",
       "      <td>1</td>\n",
       "      <td>0</td>\n",
       "      <td>2.59</td>\n",
       "      <td>9.32</td>\n",
       "      <td>41.65</td>\n",
       "      <td>1989-01-01 00:00:00</td>\n",
       "      <td>62.519492</td>\n",
       "      <td>2603.936842</td>\n",
       "    </tr>\n",
       "    <tr>\n",
       "      <th>1</th>\n",
       "      <td>1989</td>\n",
       "      <td>1</td>\n",
       "      <td>1</td>\n",
       "      <td>3</td>\n",
       "      <td>2.73</td>\n",
       "      <td>9.03</td>\n",
       "      <td>40.41</td>\n",
       "      <td>1989-01-01 03:00:00</td>\n",
       "      <td>67.299687</td>\n",
       "      <td>2719.580352</td>\n",
       "    </tr>\n",
       "    <tr>\n",
       "      <th>2</th>\n",
       "      <td>1989</td>\n",
       "      <td>1</td>\n",
       "      <td>1</td>\n",
       "      <td>6</td>\n",
       "      <td>2.78</td>\n",
       "      <td>9.06</td>\n",
       "      <td>40.27</td>\n",
       "      <td>1989-01-01 06:00:00</td>\n",
       "      <td>70.019304</td>\n",
       "      <td>2819.677372</td>\n",
       "    </tr>\n",
       "    <tr>\n",
       "      <th>3</th>\n",
       "      <td>1989</td>\n",
       "      <td>1</td>\n",
       "      <td>1</td>\n",
       "      <td>9</td>\n",
       "      <td>2.91</td>\n",
       "      <td>9.04</td>\n",
       "      <td>40.55</td>\n",
       "      <td>1989-01-01 09:00:00</td>\n",
       "      <td>76.551624</td>\n",
       "      <td>3104.168353</td>\n",
       "    </tr>\n",
       "    <tr>\n",
       "      <th>4</th>\n",
       "      <td>1989</td>\n",
       "      <td>1</td>\n",
       "      <td>1</td>\n",
       "      <td>12</td>\n",
       "      <td>3.01</td>\n",
       "      <td>9.05</td>\n",
       "      <td>41.56</td>\n",
       "      <td>1989-01-01 12:00:00</td>\n",
       "      <td>81.993905</td>\n",
       "      <td>3407.666692</td>\n",
       "    </tr>\n",
       "  </tbody>\n",
       "</table>\n",
       "</div>"
      ],
      "text/plain": [
       "   year  month  day  hour    Hs    Tp    Dir            datetime        H2T  \\\n",
       "0  1989      1    1     0  2.59  9.32  41.65 1989-01-01 00:00:00  62.519492   \n",
       "1  1989      1    1     3  2.73  9.03  40.41 1989-01-01 03:00:00  67.299687   \n",
       "2  1989      1    1     6  2.78  9.06  40.27 1989-01-01 06:00:00  70.019304   \n",
       "3  1989      1    1     9  2.91  9.04  40.55 1989-01-01 09:00:00  76.551624   \n",
       "4  1989      1    1    12  3.01  9.05  41.56 1989-01-01 12:00:00  81.993905   \n",
       "\n",
       "         thH2T  \n",
       "0  2603.936842  \n",
       "1  2719.580352  \n",
       "2  2819.677372  \n",
       "3  3104.168353  \n",
       "4  3407.666692  "
      ]
     },
     "execution_count": 8,
     "metadata": {},
     "output_type": "execute_result"
    }
   ],
   "source": [
    "# checking new columns\n",
    "tableJan1.head()"
   ]
  },
  {
   "cell_type": "code",
   "execution_count": 9,
   "metadata": {
    "scrolled": true
   },
   "outputs": [
    {
     "name": "stdout",
     "output_type": "stream",
     "text": [
      "2.421760019922373 8.462024259814802 51.74237495815952\n"
     ]
    }
   ],
   "source": [
    "# calculating the three characteristics of this January wave subset\n",
    "import math\n",
    "Hrep = math.sqrt(sum(tableJan1['H2T'])/ sum(tableJan1['Tp']))\n",
    "Trep = tableJan1.Tp.mean()\n",
    "thetarep = sum(tableJan1['thH2T'])/ sum(tableJan1['H2T'])\n",
    "print(Hrep, Trep, thetarep)"
   ]
  },
  {
   "cell_type": "markdown",
   "metadata": {},
   "source": [
    "Perform similar calculations for other subsets.\n",
    "\n",
    "(TODO: Create a dictionary and iterate over the months instead of repeating this code segment.)"
   ]
  },
  {
   "cell_type": "code",
   "execution_count": 10,
   "metadata": {},
   "outputs": [],
   "source": [
    "import warnings\n",
    "warnings.filterwarnings('ignore')"
   ]
  },
  {
   "cell_type": "code",
   "execution_count": 11,
   "metadata": {
    "collapsed": true
   },
   "outputs": [
    {
     "name": "stdout",
     "output_type": "stream",
     "text": [
      "Length of: subset1 (7667) and subset 2 (13)\n",
      "|  Jan  |  2.42 |  8.46 |   51.7   | 99.7 |\n",
      "|  Jan  |  1.39 |  4.61 |   120.8   | 0.2 |\n"
     ]
    }
   ],
   "source": [
    "tableJan1 = tableJan[tableJan['Dir'].map(inGroup1)]\n",
    "tableJan2 = tableJan[tableJan['Dir'].map(inGroup2)]\n",
    "print( 'Length of: subset1 ({}) and subset 2 ({})'.format(len(tableJan1), len(tableJan2)) )\n",
    "Pct1 = len(tableJan1) / len(tableJan) * 100\n",
    "Pct2 = len(tableJan2) / len(tableJan) * 100\n",
    "tableJan1['H2T'] = tableJan1.apply(lambda row: row['Hs']**2 * row['Tp'], axis=1)\n",
    "tableJan2['H2T'] = tableJan2.apply(lambda row: row['Hs']**2 * row['Tp'], axis=1)\n",
    "tableJan1['thH2T'] = tableJan1.apply(lambda row: row['Dir'] * row['Hs']**2 * row['Tp'], axis=1)\n",
    "tableJan2['thH2T'] = tableJan2.apply(lambda row: row['Dir'] * row['Hs']**2 * row['Tp'], axis=1)\n",
    "Hrep1 = math.sqrt(sum(tableJan1['H2T'])/ sum(tableJan1['Tp']))\n",
    "Hrep2 = math.sqrt(sum(tableJan2['H2T'])/ sum(tableJan2['Tp']))\n",
    "Trep1 = tableJan1.Tp.mean()\n",
    "Trep2 = tableJan2.Tp.mean()\n",
    "thetarep1 = sum(tableJan1['thH2T'])/ sum(tableJan1['H2T'])\n",
    "thetarep2 = sum(tableJan2['thH2T'])/ sum(tableJan2['H2T'])\n",
    "print( '|  Jan  |  {:.2f} |  {:.2f} |   {:.1f}   | {:.1f} |'.format(Hrep1, Trep1, thetarep1, Pct1) )\n",
    "print( '|  Jan  |  {:.2f} |  {:.2f} |   {:.1f}   | {:.1f} |'.format(Hrep2, Trep2, thetarep2, Pct2) )"
   ]
  },
  {
   "cell_type": "code",
   "execution_count": 12,
   "metadata": {
    "collapsed": true
   },
   "outputs": [
    {
     "name": "stdout",
     "output_type": "stream",
     "text": [
      "Length of: subset1 (6607) and subset 2 (374)\n",
      "|  Feb  |  2.04 |  8.14 |   52.2   | 94.4 |\n",
      "|  Feb  |  0.66 |  4.58 |   122.9   | 5.3 |\n"
     ]
    }
   ],
   "source": [
    "tableFeb1 = tableFeb[tableFeb['Dir'].map(inGroup1)]\n",
    "tableFeb2 = tableFeb[tableFeb['Dir'].map(inGroup2)]\n",
    "print( 'Length of: subset1 ({}) and subset 2 ({})'.format(len(tableFeb1), len(tableFeb2)) )\n",
    "Pct1 = len(tableFeb1) / len(tableFeb) * 100\n",
    "Pct2 = len(tableFeb2) / len(tableFeb) * 100\n",
    "tableFeb1['H2T'] = tableFeb1.apply(lambda row: row['Hs']**2 * row['Tp'], axis=1)\n",
    "tableFeb2['H2T'] = tableFeb2.apply(lambda row: row['Hs']**2 * row['Tp'], axis=1)\n",
    "tableFeb1['thH2T'] = tableFeb1.apply(lambda row: row['Dir'] * row['Hs']**2 * row['Tp'], axis=1)\n",
    "tableFeb2['thH2T'] = tableFeb2.apply(lambda row: row['Dir'] * row['Hs']**2 * row['Tp'], axis=1)\n",
    "Hrep1 = math.sqrt(sum(tableFeb1['H2T'])/ sum(tableFeb1['Tp']))\n",
    "Hrep2 = math.sqrt(sum(tableFeb2['H2T'])/ sum(tableFeb2['Tp']))\n",
    "Trep1 = tableFeb1.Tp.mean()\n",
    "Trep2 = tableFeb2.Tp.mean()\n",
    "thetarep1 = sum(tableFeb1['thH2T'])/ sum(tableFeb1['H2T'])\n",
    "thetarep2 = sum(tableFeb2['thH2T'])/ sum(tableFeb2['H2T'])\n",
    "print( '|  Feb  |  {:.2f} |  {:.2f} |   {:.1f}   | {:.1f} |'.format(Hrep1, Trep1, thetarep1, Pct1) )\n",
    "print( '|  Feb  |  {:.2f} |  {:.2f} |   {:.1f}   | {:.1f} |'.format(Hrep2, Trep2, thetarep2, Pct2) )"
   ]
  },
  {
   "cell_type": "code",
   "execution_count": 13,
   "metadata": {
    "collapsed": true
   },
   "outputs": [
    {
     "name": "stdout",
     "output_type": "stream",
     "text": [
      "Length of: subset 1 (6714) and subset 2 (947)\n",
      "|  Mar  |  1.66 |  7.74 |   51.7   | 87.3 |\n",
      "|  Mar  |  0.75 |  4.19 |   141.8   | 12.3 |\n"
     ]
    }
   ],
   "source": [
    "tableMar1 = tableMar[tableMar['Dir'].map(inGroup1)]\n",
    "tableMar2 = tableMar[tableMar['Dir'].map(inGroup2)]\n",
    "print( 'Length of: subset 1 ({}) and subset 2 ({})'.format(len(tableMar1), len(tableMar2)) )\n",
    "Pct1 = len(tableMar1) / len(tableMar) * 100\n",
    "Pct2 = len(tableMar2) / len(tableMar) * 100\n",
    "tableMar1['H2T'] = tableMar1.apply(lambda row: row['Hs']**2 * row['Tp'], axis=1)\n",
    "tableMar2['H2T'] = tableMar2.apply(lambda row: row['Hs']**2 * row['Tp'], axis=1)\n",
    "tableMar1['thH2T'] = tableMar1.apply(lambda row: row['Dir'] * row['Hs']**2 * row['Tp'], axis=1)\n",
    "tableMar2['thH2T'] = tableMar2.apply(lambda row: row['Dir'] * row['Hs']**2 * row['Tp'], axis=1)\n",
    "Hrep1 = math.sqrt(sum(tableMar1['H2T'])/ sum(tableMar1['Tp']))\n",
    "Hrep2 = math.sqrt(sum(tableMar2['H2T'])/ sum(tableMar2['Tp']))\n",
    "Trep1 = tableMar1.Tp.mean()\n",
    "Trep2 = tableMar2.Tp.mean()\n",
    "thetarep1 = sum(tableMar1['thH2T'])/ sum(tableMar1['H2T'])\n",
    "thetarep2 = sum(tableMar2['thH2T'])/ sum(tableMar2['H2T'])\n",
    "print( '|  Mar  |  {:.2f} |  {:.2f} |   {:.1f}   | {:.1f} |'.format(Hrep1, Trep1, thetarep1, Pct1) )\n",
    "print( '|  Mar  |  {:.2f} |  {:.2f} |   {:.1f}   | {:.1f} |'.format(Hrep2, Trep2, thetarep2, Pct2) )"
   ]
  },
  {
   "cell_type": "code",
   "execution_count": 14,
   "metadata": {
    "collapsed": true
   },
   "outputs": [
    {
     "name": "stdout",
     "output_type": "stream",
     "text": [
      "Length of: subset 1 (4953) and subset 2 (2437)\n",
      "|  Apr  |  1.18 |  7.38 |   52.5   | 66.6 |\n",
      "|  Apr  |  0.85 |  4.21 |   164.3   | 32.8 |\n"
     ]
    }
   ],
   "source": [
    "tableApr1 = tableApr[tableApr['Dir'].map(inGroup1)]\n",
    "tableApr2 = tableApr[tableApr['Dir'].map(inGroup2)]\n",
    "print( 'Length of: subset 1 ({}) and subset 2 ({})'.format(len(tableApr1), len(tableApr2)) )\n",
    "Pct1 = len(tableApr1) / len(tableApr) * 100\n",
    "Pct2 = len(tableApr2) / len(tableApr) * 100\n",
    "tableApr1['H2T'] = tableApr1.apply(lambda row: row['Hs']**2 * row['Tp'], axis=1)\n",
    "tableApr2['H2T'] = tableApr2.apply(lambda row: row['Hs']**2 * row['Tp'], axis=1)\n",
    "tableApr1['thH2T'] = tableApr1.apply(lambda row: row['Dir'] * row['Hs']**2 * row['Tp'], axis=1)\n",
    "tableApr2['thH2T'] = tableApr2.apply(lambda row: row['Dir'] * row['Hs']**2 * row['Tp'], axis=1)\n",
    "Hrep1 = math.sqrt(sum(tableApr1['H2T'])/ sum(tableApr1['Tp']))\n",
    "Hrep2 = math.sqrt(sum(tableApr2['H2T'])/ sum(tableApr2['Tp']))\n",
    "Trep1 = tableApr1.Tp.mean()\n",
    "Trep2 = tableApr2.Tp.mean()\n",
    "thetarep1 = sum(tableApr1['thH2T'])/ sum(tableApr1['H2T'])\n",
    "thetarep2 = sum(tableApr2['thH2T'])/ sum(tableApr2['H2T'])\n",
    "print( '|  Apr  |  {:.2f} |  {:.2f} |   {:.1f}   | {:.1f} |'.format(Hrep1, Trep1, thetarep1, Pct1) )\n",
    "print( '|  Apr  |  {:.2f} |  {:.2f} |   {:.1f}   | {:.1f} |'.format(Hrep2, Trep2, thetarep2, Pct2) )"
   ]
  },
  {
   "cell_type": "code",
   "execution_count": 15,
   "metadata": {
    "collapsed": true
   },
   "outputs": [
    {
     "name": "stdout",
     "output_type": "stream",
     "text": [
      "Length of: subset 1 (2972) and subset 2 (4581)\n",
      "|  May  |  1.02 |  7.16 |   53.5   | 38.7 |\n",
      "|  May  |  0.92 |  4.80 |   174.2   | 59.6 |\n"
     ]
    }
   ],
   "source": [
    "tableMay1 = tableMay[tableMay['Dir'].map(inGroup1)]\n",
    "tableMay2 = tableMay[tableMay['Dir'].map(inGroup2)]\n",
    "print( 'Length of: subset 1 ({}) and subset 2 ({})'.format(len(tableMay1), len(tableMay2)) )\n",
    "Pct1 = len(tableMay1) / len(tableMay) * 100\n",
    "Pct2 = len(tableMay2) / len(tableMay) * 100\n",
    "tableMay1['H2T'] = tableMay1.apply(lambda row: row['Hs']**2 * row['Tp'], axis=1)\n",
    "tableMay2['H2T'] = tableMay2.apply(lambda row: row['Hs']**2 * row['Tp'], axis=1)\n",
    "tableMay1['thH2T'] = tableMay1.apply(lambda row: row['Dir'] * row['Hs']**2 * row['Tp'], axis=1)\n",
    "tableMay2['thH2T'] = tableMay2.apply(lambda row: row['Dir'] * row['Hs']**2 * row['Tp'], axis=1)\n",
    "Hrep1 = math.sqrt(sum(tableMay1['H2T'])/ sum(tableMay1['Tp']))\n",
    "Hrep2 = math.sqrt(sum(tableMay2['H2T'])/ sum(tableMay2['Tp']))\n",
    "Trep1 = tableMay1.Tp.mean()\n",
    "Trep2 = tableMay2.Tp.mean()\n",
    "thetarep1 = sum(tableMay1['thH2T'])/ sum(tableMay1['H2T'])\n",
    "thetarep2 = sum(tableMay2['thH2T'])/ sum(tableMay2['H2T'])\n",
    "print( '|  May  |  {:.2f} |  {:.2f} |   {:.1f}   | {:.1f} |'.format(Hrep1, Trep1, thetarep1, Pct1) )\n",
    "print( '|  May  |  {:.2f} |  {:.2f} |   {:.1f}   | {:.1f} |'.format(Hrep2, Trep2, thetarep2, Pct2) )"
   ]
  },
  {
   "cell_type": "code",
   "execution_count": 16,
   "metadata": {
    "collapsed": true
   },
   "outputs": [
    {
     "name": "stdout",
     "output_type": "stream",
     "text": [
      "Length of: subset 1 (681) and subset 2 (6107)\n",
      "|  Jun  |  0.84 |  6.69 |   56.1   | 9.5 |\n",
      "|  Jun  |  1.04 |  5.64 |   179.5   | 84.8 |\n"
     ]
    }
   ],
   "source": [
    "tableJun1 = tableJun[tableJun['Dir'].map(inGroup1)]\n",
    "tableJun2 = tableJun[tableJun['Dir'].map(inGroup2)]\n",
    "print( 'Length of: subset 1 ({}) and subset 2 ({})'.format(len(tableJun1), len(tableJun2)) )\n",
    "Pct1 = len(tableJun1) / len(tableJun) * 100\n",
    "Pct2 = len(tableJun2) / len(tableJun) * 100\n",
    "tableJun1['H2T'] = tableJun1.apply(lambda row: row['Hs']**2 * row['Tp'], axis=1)\n",
    "tableJun2['H2T'] = tableJun2.apply(lambda row: row['Hs']**2 * row['Tp'], axis=1)\n",
    "tableJun1['thH2T'] = tableJun1.apply(lambda row: row['Dir'] * row['Hs']**2 * row['Tp'], axis=1)\n",
    "tableJun2['thH2T'] = tableJun2.apply(lambda row: row['Dir'] * row['Hs']**2 * row['Tp'], axis=1)\n",
    "Hrep1 = math.sqrt(sum(tableJun1['H2T'])/ sum(tableJun1['Tp']))\n",
    "Hrep2 = math.sqrt(sum(tableJun2['H2T'])/ sum(tableJun2['Tp']))\n",
    "Trep1 = tableJun1.Tp.mean()\n",
    "Trep2 = tableJun2.Tp.mean()\n",
    "thetarep1 = sum(tableJun1['thH2T'])/ sum(tableJun1['H2T'])\n",
    "thetarep2 = sum(tableJun2['thH2T'])/ sum(tableJun2['H2T'])\n",
    "print( '|  Jun  |  {:.2f} |  {:.2f} |   {:.1f}   | {:.1f} |'.format(Hrep1, Trep1, thetarep1, Pct1) )\n",
    "print( '|  Jun  |  {:.2f} |  {:.2f} |   {:.1f}   | {:.1f} |'.format(Hrep2, Trep2, thetarep2, Pct2) )"
   ]
  },
  {
   "cell_type": "code",
   "execution_count": 17,
   "metadata": {
    "collapsed": true
   },
   "outputs": [
    {
     "name": "stdout",
     "output_type": "stream",
     "text": [
      "Length of: subset 1 (549) and subset 2 (6499)\n",
      "|  Jul  |  0.93 |  8.70 |   59.7   | 7.4 |\n",
      "|  Jul  |  1.09 |  5.98 |   181.3   | 87.4 |\n"
     ]
    }
   ],
   "source": [
    "tableJul1 = tableJul[tableJul['Dir'].map(inGroup1)]\n",
    "tableJul2 = tableJul[tableJul['Dir'].map(inGroup2)]\n",
    "print( 'Length of: subset 1 ({}) and subset 2 ({})'.format(len(tableJul1), len(tableJul2)) )\n",
    "Pct1 = len(tableJul1) / len(tableJul) * 100\n",
    "Pct2 = len(tableJul2) / len(tableJul) * 100\n",
    "tableJul1['H2T'] = tableJul1.apply(lambda row: row['Hs']**2 * row['Tp'], axis=1)\n",
    "tableJul2['H2T'] = tableJul2.apply(lambda row: row['Hs']**2 * row['Tp'], axis=1)\n",
    "tableJul1['thH2T'] = tableJul1.apply(lambda row: row['Dir'] * row['Hs']**2 * row['Tp'], axis=1)\n",
    "tableJul2['thH2T'] = tableJul2.apply(lambda row: row['Dir'] * row['Hs']**2 * row['Tp'], axis=1)\n",
    "Hrep1 = math.sqrt(sum(tableJul1['H2T'])/ sum(tableJul1['Tp']))\n",
    "Hrep2 = math.sqrt(sum(tableJul2['H2T'])/ sum(tableJul2['Tp']))\n",
    "Trep1 = tableJul1.Tp.mean()\n",
    "Trep2 = tableJul2.Tp.mean()\n",
    "thetarep1 = sum(tableJul1['thH2T'])/ sum(tableJul1['H2T'])\n",
    "thetarep2 = sum(tableJul2['thH2T'])/ sum(tableJul2['H2T'])\n",
    "print( '|  Jul  |  {:.2f} |  {:.2f} |   {:.1f}   | {:.1f} |'.format(Hrep1, Trep1, thetarep1, Pct1) )\n",
    "print( '|  Jul  |  {:.2f} |  {:.2f} |   {:.1f}   | {:.1f} |'.format(Hrep2, Trep2, thetarep2, Pct2) )"
   ]
  },
  {
   "cell_type": "code",
   "execution_count": 18,
   "metadata": {
    "collapsed": true
   },
   "outputs": [
    {
     "name": "stdout",
     "output_type": "stream",
     "text": [
      "Length of: subset 1 (783) and subset 2 (6100)\n",
      "|  Aug  |  0.95 |  9.04 |   55.7   | 10.5 |\n",
      "|  Aug  |  1.15 |  6.30 |   183.5   | 82.0 |\n"
     ]
    }
   ],
   "source": [
    "tableAug1 = tableAug[tableAug['Dir'].map(inGroup1)]\n",
    "tableAug2 = tableAug[tableAug['Dir'].map(inGroup2)]\n",
    "print( 'Length of: subset 1 ({}) and subset 2 ({})'.format(len(tableAug1), len(tableAug2)) )\n",
    "Pct1 = len(tableAug1) / len(tableAug) * 100\n",
    "Pct2 = len(tableAug2) / len(tableAug) * 100\n",
    "tableAug1['H2T'] = tableAug1.apply(lambda row: row['Hs']**2 * row['Tp'], axis=1)\n",
    "tableAug2['H2T'] = tableAug2.apply(lambda row: row['Hs']**2 * row['Tp'], axis=1)\n",
    "tableAug1['thH2T'] = tableAug1.apply(lambda row: row['Dir'] * row['Hs']**2 * row['Tp'], axis=1)\n",
    "tableAug2['thH2T'] = tableAug2.apply(lambda row: row['Dir'] * row['Hs']**2 * row['Tp'], axis=1)\n",
    "Hrep1 = math.sqrt(sum(tableAug1['H2T'])/ sum(tableAug1['Tp']))\n",
    "Hrep2 = math.sqrt(sum(tableAug2['H2T'])/ sum(tableAug2['Tp']))\n",
    "Trep1 = tableAug1.Tp.mean()\n",
    "Trep2 = tableAug2.Tp.mean()\n",
    "thetarep1 = sum(tableAug1['thH2T'])/ sum(tableAug1['H2T'])\n",
    "thetarep2 = sum(tableAug2['thH2T'])/ sum(tableAug2['H2T'])\n",
    "print( '|  Aug  |  {:.2f} |  {:.2f} |   {:.1f}   | {:.1f} |'.format(Hrep1, Trep1, thetarep1, Pct1) )\n",
    "print( '|  Aug  |  {:.2f} |  {:.2f} |   {:.1f}   | {:.1f} |'.format(Hrep2, Trep2, thetarep2, Pct2) )"
   ]
  },
  {
   "cell_type": "code",
   "execution_count": 19,
   "metadata": {},
   "outputs": [
    {
     "name": "stdout",
     "output_type": "stream",
     "text": [
      "Length of: subset 1 (3290) and subset 2 (3637)\n",
      "|  Sep  |  1.17 |  8.20 |   63.8   | 45.7 |\n",
      "|  Sep  |  1.05 |  6.06 |   178.5   | 50.5 |\n"
     ]
    }
   ],
   "source": [
    "tableSep1 = tableSep[tableSep['Dir'].map(inGroup1)]\n",
    "tableSep2 = tableSep[tableSep['Dir'].map(inGroup2)]\n",
    "print( 'Length of: subset 1 ({}) and subset 2 ({})'.format(len(tableSep1), len(tableSep2)) )\n",
    "Pct1 = len(tableSep1) / len(tableSep) * 100\n",
    "Pct2 = len(tableSep2) / len(tableSep) * 100\n",
    "tableSep1['H2T'] = tableSep1.apply(lambda row: row['Hs']**2 * row['Tp'], axis=1)\n",
    "tableSep2['H2T'] = tableSep2.apply(lambda row: row['Hs']**2 * row['Tp'], axis=1)\n",
    "tableSep1['thH2T'] = tableSep1.apply(lambda row: row['Dir'] * row['Hs']**2 * row['Tp'], axis=1)\n",
    "tableSep2['thH2T'] = tableSep2.apply(lambda row: row['Dir'] * row['Hs']**2 * row['Tp'], axis=1)\n",
    "Hrep1 = math.sqrt(sum(tableSep1['H2T'])/ sum(tableSep1['Tp']))\n",
    "Hrep2 = math.sqrt(sum(tableSep2['H2T'])/ sum(tableSep2['Tp']))\n",
    "Trep1 = tableSep1.Tp.mean()\n",
    "Trep2 = tableSep2.Tp.mean()\n",
    "thetarep1 = sum(tableSep1['thH2T'])/ sum(tableSep1['H2T'])\n",
    "thetarep2 = sum(tableSep2['thH2T'])/ sum(tableSep2['H2T'])\n",
    "print( '|  Sep  |  {:.2f} |  {:.2f} |   {:.1f}   | {:.1f} |'.format(Hrep1, Trep1, thetarep1, Pct1) )\n",
    "print( '|  Sep  |  {:.2f} |  {:.2f} |   {:.1f}   | {:.1f} |'.format(Hrep2, Trep2, thetarep2, Pct2) )"
   ]
  },
  {
   "cell_type": "code",
   "execution_count": 20,
   "metadata": {
    "collapsed": true
   },
   "outputs": [
    {
     "name": "stdout",
     "output_type": "stream",
     "text": [
      "Length of: subset 1 (7061) and subset 2 (333)\n",
      "|  Oct  |  1.89 |  8.46 |   47.8   | 94.9 |\n",
      "|  Oct  |  1.37 |  6.00 |   166.3   | 4.5 |\n"
     ]
    }
   ],
   "source": [
    "tableOct1 = tableOct[tableOct['Dir'].map(inGroup1)]\n",
    "tableOct2 = tableOct[tableOct['Dir'].map(inGroup2)]\n",
    "print( 'Length of: subset 1 ({}) and subset 2 ({})'.format(len(tableOct1), len(tableOct2)) )\n",
    "Pct1 = len(tableOct1) / len(tableOct) * 100\n",
    "Pct2 = len(tableOct2) / len(tableOct) * 100\n",
    "tableOct1['H2T'] = tableOct1.apply(lambda row: row['Hs']**2 * row['Tp'], axis=1)\n",
    "tableOct2['H2T'] = tableOct2.apply(lambda row: row['Hs']**2 * row['Tp'], axis=1)\n",
    "tableOct1['thH2T'] = tableOct1.apply(lambda row: row['Dir'] * row['Hs']**2 * row['Tp'], axis=1)\n",
    "tableOct2['thH2T'] = tableOct2.apply(lambda row: row['Dir'] * row['Hs']**2 * row['Tp'], axis=1)\n",
    "Hrep1 = math.sqrt(sum(tableOct1['H2T'])/ sum(tableOct1['Tp']))\n",
    "Hrep2 = math.sqrt(sum(tableOct2['H2T'])/ sum(tableOct2['Tp']))\n",
    "Trep1 = tableOct1.Tp.mean()\n",
    "Trep2 = tableOct2.Tp.mean()\n",
    "thetarep1 = sum(tableOct1['thH2T'])/ sum(tableOct1['H2T'])\n",
    "thetarep2 = sum(tableOct2['thH2T'])/ sum(tableOct2['H2T'])\n",
    "print( '|  Oct  |  {:.2f} |  {:.2f} |   {:.1f}   | {:.1f} |'.format(Hrep1, Trep1, thetarep1, Pct1) )\n",
    "print( '|  Oct  |  {:.2f} |  {:.2f} |   {:.1f}   | {:.1f} |'.format(Hrep2, Trep2, thetarep2, Pct2) )"
   ]
  },
  {
   "cell_type": "code",
   "execution_count": 21,
   "metadata": {},
   "outputs": [
    {
     "name": "stdout",
     "output_type": "stream",
     "text": [
      "Length of: subset 1 (7151) and subset 2 (40)\n",
      "|  Nov  |  2.57 |  8.79 |   49.8   | 99.3 |\n",
      "|  Nov  |  2.76 |  7.11 |   123.0   | 0.6 |\n"
     ]
    }
   ],
   "source": [
    "tableNov1 = tableNov[tableNov['Dir'].map(inGroup1)]\n",
    "tableNov2 = tableNov[tableNov['Dir'].map(inGroup2)]\n",
    "print( 'Length of: subset 1 ({}) and subset 2 ({})'.format(len(tableNov1), len(tableNov2)) )\n",
    "Pct1 = len(tableNov1) / len(tableNov) * 100\n",
    "Pct2 = len(tableNov2) / len(tableNov) * 100\n",
    "tableNov1['H2T'] = tableNov1.apply(lambda row: row['Hs']**2 * row['Tp'], axis=1)\n",
    "tableNov2['H2T'] = tableNov2.apply(lambda row: row['Hs']**2 * row['Tp'], axis=1)\n",
    "tableNov1['thH2T'] = tableNov1.apply(lambda row: row['Dir'] * row['Hs']**2 * row['Tp'], axis=1)\n",
    "tableNov2['thH2T'] = tableNov2.apply(lambda row: row['Dir'] * row['Hs']**2 * row['Tp'], axis=1)\n",
    "Hrep1 = math.sqrt(sum(tableNov1['H2T'])/ sum(tableNov1['Tp']))\n",
    "Hrep2 = math.sqrt(sum(tableNov2['H2T'])/ sum(tableNov2['Tp']))\n",
    "Trep1 = tableNov1.Tp.mean()\n",
    "Trep2 = tableNov2.Tp.mean()\n",
    "thetarep1 = sum(tableNov1['thH2T'])/ sum(tableNov1['H2T'])\n",
    "thetarep2 = sum(tableNov2['thH2T'])/ sum(tableNov2['H2T'])\n",
    "print( '|  Nov  |  {:.2f} |  {:.2f} |   {:.1f}   | {:.1f} |'.format(Hrep1, Trep1, thetarep1, Pct1) )\n",
    "print( '|  Nov  |  {:.2f} |  {:.2f} |   {:.1f}   | {:.1f} |'.format(Hrep2, Trep2, thetarep2, Pct2) )"
   ]
  },
  {
   "cell_type": "code",
   "execution_count": 22,
   "metadata": {
    "collapsed": true
   },
   "outputs": [
    {
     "name": "stdout",
     "output_type": "stream",
     "text": [
      "Length of: subset 1 (7426) and subset 2 (9)\n",
      "|  Dec  |  3.01 |  9.08 |   51.3   | 99.8 |\n",
      "|  Dec  |  1.40 |  6.83 |   105.8   | 0.1 |\n"
     ]
    }
   ],
   "source": [
    "tableDec1 = tableDec[tableDec['Dir'].map(inGroup1)]\n",
    "tableDec2 = tableDec[tableDec['Dir'].map(inGroup2)]\n",
    "print( 'Length of: subset 1 ({}) and subset 2 ({})'.format(len(tableDec1), len(tableDec2)) )\n",
    "Pct1 = len(tableDec1) / len(tableDec) * 100\n",
    "Pct2 = len(tableDec2) / len(tableDec) * 100\n",
    "tableDec1['H2T'] = tableDec1.apply(lambda row: row['Hs']**2 * row['Tp'], axis=1)\n",
    "tableDec2['H2T'] = tableDec2.apply(lambda row: row['Hs']**2 * row['Tp'], axis=1)\n",
    "tableDec1['thH2T'] = tableDec1.apply(lambda row: row['Dir'] * row['Hs']**2 * row['Tp'], axis=1)\n",
    "tableDec2['thH2T'] = tableDec2.apply(lambda row: row['Dir'] * row['Hs']**2 * row['Tp'], axis=1)\n",
    "Hrep1 = math.sqrt(sum(tableDec1['H2T'])/ sum(tableDec1['Tp']))\n",
    "Hrep2 = math.sqrt(sum(tableDec2['H2T'])/ sum(tableDec2['Tp']))\n",
    "Trep1 = tableDec1.Tp.mean()\n",
    "Trep2 = tableDec2.Tp.mean()\n",
    "thetarep1 = sum(tableDec1['thH2T'])/ sum(tableDec1['H2T'])\n",
    "thetarep2 = sum(tableDec2['thH2T'])/ sum(tableDec2['H2T'])\n",
    "print( '|  Dec  |  {:.2f} |  {:.2f} |   {:.1f}   | {:.1f} |'.format(Hrep1, Trep1, thetarep1, Pct1) )\n",
    "print( '|  Dec  |  {:.2f} |  {:.2f} |   {:.1f}   | {:.1f} |'.format(Hrep2, Trep2, thetarep2, Pct2) )"
   ]
  },
  {
   "cell_type": "markdown",
   "metadata": {},
   "source": [
    "## Wave conditions\n",
    "\n",
    "Gathering the above print-outs, we can create a markdown table including two conditions per month:\n",
    "\n",
    "| Month | Hsrep | Tprep | thetarep |  %   |\n",
    "|:-----:|:-----:|:-----:|:--------:|:----:|\n",
    "|  Jan  |  2.42 |  8.46 |   51.7   | 99.7 |\n",
    "|  Jan  |  1.39 |  4.61 |   120.8  |  0.2 |\n",
    "|  Feb  |  2.04 |  8.14 |   52.2   | 94.4 |\n",
    "|  Feb  |  0.66 |  4.58 |   122.9  |  5.3 |\n",
    "|  Mar  |  1.66 |  7.74 |   51.7   | 87.3 |\n",
    "|  Mar  |  0.75 |  4.19 |   141.8  | 12.3 |\n",
    "|  Apr  |  1.18 |  7.38 |   52.5   | 66.6 |\n",
    "|  Apr  |  0.85 |  4.21 |   164.3  | 32.8 |\n",
    "|  May  |  1.02 |  7.16 |   53.5   | 38.7 |\n",
    "|  May  |  0.92 |  4.80 |   174.2  | 59.6 |\n",
    "|  Jun  |  0.84 |  6.69 |   56.1   |  9.5 |\n",
    "|  Jun  |  1.04 |  5.64 |   179.5  | 84.8 |\n",
    "|  Jul  |  0.93 |  8.70 |   59.7   |  7.4 |\n",
    "|  Jul  |  1.09 |  5.98 |   181.3  | 87.4 |\n",
    "|  Aug  |  0.95 |  9.04 |   55.7   | 10.5 |\n",
    "|  Aug  |  1.15 |  6.30 |   183.5  | 82.0 |\n",
    "|  Sep  |  1.17 |  8.20 |   63.8   | 45.7 |\n",
    "|  Sep  |  1.05 |  6.06 |   178.5  | 50.5 |\n",
    "|  Oct  |  1.89 |  8.46 |   47.8   | 94.9 |\n",
    "|  Oct  |  1.37 |  6.00 |   166.3  |  4.5 |\n",
    "|  Nov  |  2.57 |  8.79 |   49.8   | 99.3 |\n",
    "|  Nov  |  2.76 |  7.11 |   123.0  |  0.6 |\n",
    "|  Dec  |  3.01 |  9.08 |   51.3   | 99.8 |\n",
    "|  Dec  |  1.40 |  6.83 |   105.8  |  0.1 |"
   ]
  },
  {
   "cell_type": "markdown",
   "metadata": {},
   "source": [
    "Filtering the about results, keeping only either predominant conditions with > 90% occurence, or high wave conditions. These 21 conditions are used for analysis, as described in the paper.\n",
    "\n",
    "| Month | Hsrep | Tprep | thetarep |  %   |\n",
    "|:-----:|:-----:|:-----:|:--------:|:----:|\n",
    "|  Jan  |  2.42 |  8.46 |   51.7   | 99.7 |\n",
    "|  Feb  |  2.04 |  8.14 |   52.2   | 94.4 |\n",
    "|  Mar  |  1.66 |  7.74 |   51.7   | 87.3 |\n",
    "|  Mar  |  0.75 |  4.19 |   141.8  | 12.3 |\n",
    "|  Apr  |  1.18 |  7.38 |   52.5   | 66.6 |\n",
    "|  Apr  |  0.85 |  4.21 |   164.3  | 32.8 |\n",
    "|  May  |  1.02 |  7.16 |   53.5   | 38.7 |\n",
    "|  May  |  0.92 |  4.80 |   174.2  | 59.6 |\n",
    "|  Jun  |  0.84 |  6.69 |   56.1   |  9.5 |\n",
    "|  Jun  |  1.04 |  5.64 |   179.5  | 84.8 |\n",
    "|  Jul  |  0.93 |  8.70 |   59.7   |  7.4 |\n",
    "|  Jul  |  1.09 |  5.98 |   181.3  | 87.4 |\n",
    "|  Aug  |  0.95 |  9.04 |   55.7   | 10.5 |\n",
    "|  Aug  |  1.15 |  6.30 |   183.5  | 82.0 |\n",
    "|  Sep  |  1.17 |  8.20 |   63.8   | 45.7 |\n",
    "|  Sep  |  1.05 |  6.06 |   178.5  | 50.5 |\n",
    "|  Oct  |  1.89 |  8.46 |   47.8   | 94.9 |\n",
    "|  Nov  |  2.57 |  8.79 |   49.8   | 99.3 |\n",
    "|  Dec  |  3.01 |  9.08 |   51.3   | 99.8 |"
   ]
  }
 ],
 "metadata": {
  "anaconda-cloud": {},
  "kernelspec": {
   "display_name": "Python 3.7.3 ('base')",
   "language": "python",
   "name": "python3"
  },
  "language_info": {
   "codemirror_mode": {
    "name": "ipython",
    "version": 3
   },
   "file_extension": ".py",
   "mimetype": "text/x-python",
   "name": "python",
   "nbconvert_exporter": "python",
   "pygments_lexer": "ipython3",
   "version": "3.7.3"
  },
  "vscode": {
   "interpreter": {
    "hash": "563f951017bfe42b1ce584ab813203aa163ffcc174ee6e09b5f2249c4cd07410"
   }
  }
 },
 "nbformat": 4,
 "nbformat_minor": 1
}
